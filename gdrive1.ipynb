{
 "cells": [
  {
   "cell_type": "code",
   "execution_count": null,
   "metadata": {},
   "outputs": [],
   "source": [
    "import pydrive\n",
    "import os\n",
    "\n",
    "g_login = pydrive.GoogleAuth()\n",
    "g_login.LocalWebserverAuth()\n",
    "drive = pydrive.GoogleDrive(g_login)\n",
    "\n",
    "bin_file = '/Users/egs/repos/proteusPy/proteusPy/data/PDB_SS_ALL_LOADER.pkl'\n",
    "\n",
    "f = drive.CreateFile({'title': os.path.basename(bin_file)})\n",
    "f.SetContentFile(bin_file)\n",
    "f.Upload()\n",
    "print('File uploaded successfully. URI: {}'.format(f['alternateLink']))"
   ]
  },
  {
   "cell_type": "code",
   "execution_count": null,
   "metadata": {},
   "outputs": [],
   "source": [
    "def upload_file_to_drive(filename, drive_path):\n",
    "    g_login = pydrive.GoogleAuth()\n",
    "    g_login.LocalWebserverAuth()\n",
    "    drive = pydrive.GoogleDrive(g_login)\n",
    "    f = drive.CreateFile({'title': filename})\n",
    "    f.SetContentFile(filename)\n",
    "    f.Upload() \n",
    "    add_the_file = drive.CreateFile({'id': f['id']})\n",
    "    #add_the_file.InsertIntoFolder(drive_path)\n",
    " \n",
    "#Usage:\n",
    "upload_file_to_drive('/Users/egs/repos/proteusPy/proteusPy/data/PDB_SS_ALL_LOADER.pkl', '')"
   ]
  },
  {
   "cell_type": "code",
   "execution_count": 3,
   "metadata": {},
   "outputs": [
    {
     "ename": "ImportError",
     "evalue": "cannot import name 'MediaIOBaseUpload' from 'googleapiclient.http' (/Users/egs/miniforge3/envs/chatgpt/lib/python3.9/site-packages/googleapiclient/http.py)",
     "output_type": "error",
     "traceback": [
      "\u001b[0;31m---------------------------------------------------------------------------\u001b[0m",
      "\u001b[0;31mImportError\u001b[0m                               Traceback (most recent call last)",
      "Cell \u001b[0;32mIn[3], line 1\u001b[0m\n\u001b[0;32m----> 1\u001b[0m \u001b[39mfrom\u001b[39;00m \u001b[39mgoogleapiclient\u001b[39;00m\u001b[39m.\u001b[39;00m\u001b[39mhttp\u001b[39;00m \u001b[39mimport\u001b[39;00m MediaIOBaseUpload\n\u001b[1;32m      2\u001b[0m \u001b[39mimport\u001b[39;00m \u001b[39mgoogle_auth_oauthlib\u001b[39;00m\u001b[39m.\u001b[39;00m\u001b[39mflow\u001b[39;00m\n\u001b[1;32m      3\u001b[0m \u001b[39mimport\u001b[39;00m \u001b[39mgoogleapiclient\u001b[39;00m\u001b[39m.\u001b[39;00m\u001b[39mdiscovery\u001b[39;00m\n",
      "\u001b[0;31mImportError\u001b[0m: cannot import name 'MediaIOBaseUpload' from 'googleapiclient.http' (/Users/egs/miniforge3/envs/chatgpt/lib/python3.9/site-packages/googleapiclient/http.py)"
     ]
    }
   ],
   "source": [
    "from googleapiclient.http import MediaIOBaseUpload\n",
    "import google_auth_oauthlib.flow\n",
    "import googleapiclient.discovery\n",
    "import os\n",
    "\n",
    "def upload_google_drive(filename):\n",
    "    scopes = [\"https://www.googleapis.com/auth/drive\"]\n",
    "    # Create flow instance to manage the OAuth 2.0 Authorization Grant Flow steps.\n",
    "    flow = google_auth_oauthlib.flow.InstalledAppFlow.from_client_secrets_file(\n",
    "        \"client_secret.json\", scopes=scopes\n",
    "    )\n",
    "\n",
    "    # The request body for uploading files.\n",
    "    media_body = MediaIOBaseUpload(filename, mimetype=\"application/octet-stream\")\n",
    "\n",
    "    # Perform OAuth 2.0 Authorization\n",
    "    credentials = flow.run_console()\n",
    "\n",
    "    # Create drive service instance\n",
    "    drive_service = googleapiclient.discovery.build(\n",
    "        \"drive\", \"v3\", credentials=credentials\n",
    "    )\n",
    "\n",
    "    # File metadata\n",
    "    file_metadata = {\n",
    "        \"name\": os.path.basename(filename),\n",
    "        \"mimeType\": \"application/octet-stream\",\n",
    "    }\n",
    "\n",
    "    # Perform the upload\n",
    "    file = drive_service.files().create(body=file_metadata, media_body=media_body).execute()\n",
    "\n",
    "    return file.get(\"id\")\n",
    "    \n",
    "\n"
   ]
  },
  {
   "cell_type": "code",
   "execution_count": 8,
   "metadata": {},
   "outputs": [],
   "source": [
    "import os\n",
    "import shutil\n",
    "import subprocess\n",
    "\n",
    "def download_lfs_file(repo_url, file_path, output_path):\n",
    "    \"\"\"\n",
    "    Download the given Git LFS file from the given repository URL\n",
    "    and save it to the specified output path on the local filesystem.\n",
    "    :param repo_url: URL of the Git repository\n",
    "    :param file_path: Path to the Git LFS file relative to the repository root\n",
    "    :param output_path: Path to the output directory on the local filesystem\n",
    "    \"\"\"\n",
    "    if not os.path.exists(output_path):\n",
    "        os.makedirs(output_path)\n",
    "\n",
    "    # Execute a Git LFS clone operation to download the specified file\n",
    "    cmd = ['git', 'lfs', 'clone', repo_url, output_path, '--include', file_path]\n",
    "    subprocess.run(cmd)\n",
    "\n",
    "    # Move the specified file to the output path\n",
    "    file_name = os.path.basename(file_path)\n",
    "    file_src_path = os.path.join(output_path, '.git', 'lfs', file_name)\n",
    "    file_dest_path = os.path.join(output_path, file_name)\n",
    "    shutil.move(file_src_path, file_dest_path)\n",
    "\n",
    "    # Remove the .git directory created by the clone operation\n",
    "    shutil.rmtree(os.path.join(output_path, '.git'))\n",
    "    \n",
    "\n"
   ]
  },
  {
   "cell_type": "code",
   "execution_count": 9,
   "metadata": {},
   "outputs": [
    {
     "name": "stderr",
     "output_type": "stream",
     "text": [
      "WARNING: `git lfs clone` is deprecated and will not be updated\n",
      "          with new flags from `git clone`\n",
      "\n",
      "`git clone` has been updated in upstream Git to have comparable\n",
      "speeds to `git lfs clone`.\n",
      "fatal: destination path '/Users/egs/Desktop' already exists and is not an empty directory.\n",
      "Error(s) during clone:\n",
      "`git clone` failed: exit status 128\n"
     ]
    },
    {
     "ename": "FileNotFoundError",
     "evalue": "[Errno 2] No such file or directory: '/Users/egs/Desktop/.git/lfs/PDB_SS_ALL_LOADER.pkl'",
     "output_type": "error",
     "traceback": [
      "\u001b[0;31m---------------------------------------------------------------------------\u001b[0m",
      "\u001b[0;31mFileNotFoundError\u001b[0m                         Traceback (most recent call last)",
      "File \u001b[0;32m~/miniforge3/envs/chatgpt/lib/python3.9/shutil.py:825\u001b[0m, in \u001b[0;36mmove\u001b[0;34m(src, dst, copy_function)\u001b[0m\n\u001b[1;32m    824\u001b[0m \u001b[39mtry\u001b[39;00m:\n\u001b[0;32m--> 825\u001b[0m     os\u001b[39m.\u001b[39;49mrename(src, real_dst)\n\u001b[1;32m    826\u001b[0m \u001b[39mexcept\u001b[39;00m \u001b[39mOSError\u001b[39;00m:\n",
      "\u001b[0;31mFileNotFoundError\u001b[0m: [Errno 2] No such file or directory: '/Users/egs/Desktop/.git/lfs/PDB_SS_ALL_LOADER.pkl' -> '/Users/egs/Desktop/PDB_SS_ALL_LOADER.pkl'",
      "\nDuring handling of the above exception, another exception occurred:\n",
      "\u001b[0;31mFileNotFoundError\u001b[0m                         Traceback (most recent call last)",
      "Cell \u001b[0;32mIn[9], line 1\u001b[0m\n\u001b[0;32m----> 1\u001b[0m download_lfs_file(\u001b[39m'\u001b[39;49m\u001b[39mhttps://github.com/suchanek/proteusPy\u001b[39;49m\u001b[39m'\u001b[39;49m,\u001b[39m'\u001b[39;49m\u001b[39mproteusPy/data/PDB_SS_ALL_LOADER.pkl\u001b[39;49m\u001b[39m'\u001b[39;49m, \u001b[39m'\u001b[39;49m\u001b[39m/Users/egs/Desktop/\u001b[39;49m\u001b[39m'\u001b[39;49m)\n",
      "Cell \u001b[0;32mIn[8], line 24\u001b[0m, in \u001b[0;36mdownload_lfs_file\u001b[0;34m(repo_url, file_path, output_path)\u001b[0m\n\u001b[1;32m     22\u001b[0m file_src_path \u001b[39m=\u001b[39m os\u001b[39m.\u001b[39mpath\u001b[39m.\u001b[39mjoin(output_path, \u001b[39m'\u001b[39m\u001b[39m.git\u001b[39m\u001b[39m'\u001b[39m, \u001b[39m'\u001b[39m\u001b[39mlfs\u001b[39m\u001b[39m'\u001b[39m, file_name)\n\u001b[1;32m     23\u001b[0m file_dest_path \u001b[39m=\u001b[39m os\u001b[39m.\u001b[39mpath\u001b[39m.\u001b[39mjoin(output_path, file_name)\n\u001b[0;32m---> 24\u001b[0m shutil\u001b[39m.\u001b[39;49mmove(file_src_path, file_dest_path)\n\u001b[1;32m     26\u001b[0m \u001b[39m# Remove the .git directory created by the clone operation\u001b[39;00m\n\u001b[1;32m     27\u001b[0m shutil\u001b[39m.\u001b[39mrmtree(os\u001b[39m.\u001b[39mpath\u001b[39m.\u001b[39mjoin(output_path, \u001b[39m'\u001b[39m\u001b[39m.git\u001b[39m\u001b[39m'\u001b[39m))\n",
      "File \u001b[0;32m~/miniforge3/envs/chatgpt/lib/python3.9/shutil.py:845\u001b[0m, in \u001b[0;36mmove\u001b[0;34m(src, dst, copy_function)\u001b[0m\n\u001b[1;32m    843\u001b[0m         rmtree(src)\n\u001b[1;32m    844\u001b[0m     \u001b[39melse\u001b[39;00m:\n\u001b[0;32m--> 845\u001b[0m         copy_function(src, real_dst)\n\u001b[1;32m    846\u001b[0m         os\u001b[39m.\u001b[39munlink(src)\n\u001b[1;32m    847\u001b[0m \u001b[39mreturn\u001b[39;00m real_dst\n",
      "File \u001b[0;32m~/miniforge3/envs/chatgpt/lib/python3.9/shutil.py:444\u001b[0m, in \u001b[0;36mcopy2\u001b[0;34m(src, dst, follow_symlinks)\u001b[0m\n\u001b[1;32m    442\u001b[0m \u001b[39mif\u001b[39;00m os\u001b[39m.\u001b[39mpath\u001b[39m.\u001b[39misdir(dst):\n\u001b[1;32m    443\u001b[0m     dst \u001b[39m=\u001b[39m os\u001b[39m.\u001b[39mpath\u001b[39m.\u001b[39mjoin(dst, os\u001b[39m.\u001b[39mpath\u001b[39m.\u001b[39mbasename(src))\n\u001b[0;32m--> 444\u001b[0m copyfile(src, dst, follow_symlinks\u001b[39m=\u001b[39;49mfollow_symlinks)\n\u001b[1;32m    445\u001b[0m copystat(src, dst, follow_symlinks\u001b[39m=\u001b[39mfollow_symlinks)\n\u001b[1;32m    446\u001b[0m \u001b[39mreturn\u001b[39;00m dst\n",
      "File \u001b[0;32m~/miniforge3/envs/chatgpt/lib/python3.9/shutil.py:264\u001b[0m, in \u001b[0;36mcopyfile\u001b[0;34m(src, dst, follow_symlinks)\u001b[0m\n\u001b[1;32m    262\u001b[0m     os\u001b[39m.\u001b[39msymlink(os\u001b[39m.\u001b[39mreadlink(src), dst)\n\u001b[1;32m    263\u001b[0m \u001b[39melse\u001b[39;00m:\n\u001b[0;32m--> 264\u001b[0m     \u001b[39mwith\u001b[39;00m \u001b[39mopen\u001b[39;49m(src, \u001b[39m'\u001b[39;49m\u001b[39mrb\u001b[39;49m\u001b[39m'\u001b[39;49m) \u001b[39mas\u001b[39;00m fsrc:\n\u001b[1;32m    265\u001b[0m         \u001b[39mtry\u001b[39;00m:\n\u001b[1;32m    266\u001b[0m             \u001b[39mwith\u001b[39;00m \u001b[39mopen\u001b[39m(dst, \u001b[39m'\u001b[39m\u001b[39mwb\u001b[39m\u001b[39m'\u001b[39m) \u001b[39mas\u001b[39;00m fdst:\n\u001b[1;32m    267\u001b[0m                 \u001b[39m# macOS\u001b[39;00m\n",
      "\u001b[0;31mFileNotFoundError\u001b[0m: [Errno 2] No such file or directory: '/Users/egs/Desktop/.git/lfs/PDB_SS_ALL_LOADER.pkl'"
     ]
    }
   ],
   "source": [
    "download_lfs_file('https://github.com/suchanek/proteusPy','proteusPy/data/PDB_SS_ALL_LOADER.pkl', '/Users/egs/Desktop/')\n"
   ]
  },
  {
   "cell_type": "code",
   "execution_count": null,
   "metadata": {},
   "outputs": [],
   "source": []
  }
 ],
 "metadata": {
  "kernelspec": {
   "display_name": "chatgpt",
   "language": "python",
   "name": "python3"
  },
  "language_info": {
   "codemirror_mode": {
    "name": "ipython",
    "version": 3
   },
   "file_extension": ".py",
   "mimetype": "text/x-python",
   "name": "python",
   "nbconvert_exporter": "python",
   "pygments_lexer": "ipython3",
   "version": "3.9.16"
  },
  "orig_nbformat": 4,
  "vscode": {
   "interpreter": {
    "hash": "e982a5688fa28a452efc4393f7623ae4e7d326a50da5b1111c9899bcc991c7c6"
   }
  }
 },
 "nbformat": 4,
 "nbformat_minor": 2
}
